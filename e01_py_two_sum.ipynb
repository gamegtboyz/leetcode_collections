{
 "cells": [
  {
   "cell_type": "markdown",
   "metadata": {},
   "source": [
    "### e01_py_two_sum\n",
    "Given the int[] named nums and int named target\n",
    "Write code to return indices of nums arrays which sum of their values equals to y.\n",
    "\n",
    "#### Example\n",
    "Input: nums = [2,7,11,15], target = 9\n",
    "Output: [0,1]\n",
    "Explanation: Because nums[0] + nums[1] == 9, we return [0, 1]."
   ]
  },
  {
   "cell_type": "code",
   "execution_count": 8,
   "metadata": {},
   "outputs": [],
   "source": [
    "# Sum of the solutions.\n",
    "## There're many ways available to solve this problem, the code shown here use the linear search\n",
    "\n",
    "def Twosums(nums: List[int],target: int) -> List[int]:\n",
    "    n = len(nums)\n",
    "    for i in range(n-1):\n",
    "        for j in range(i+1,n):\n",
    "            if(nums[i] + nums[j] == target):\n",
    "                return  [i,j]\n",
    "    return []"
   ]
  },
  {
   "cell_type": "code",
   "execution_count": 10,
   "metadata": {},
   "outputs": [
    {
     "name": "stdout",
     "output_type": "stream",
     "text": [
      "[0, 1]\n"
     ]
    }
   ],
   "source": [
    "nums = [2,7,11,15]\n",
    "target = 9\n",
    "result = Twosums(nums,target)\n",
    "print(result)"
   ]
  }
 ],
 "metadata": {
  "kernelspec": {
   "display_name": "base",
   "language": "python",
   "name": "python3"
  },
  "language_info": {
   "codemirror_mode": {
    "name": "ipython",
    "version": 3
   },
   "file_extension": ".py",
   "mimetype": "text/x-python",
   "name": "python",
   "nbconvert_exporter": "python",
   "pygments_lexer": "ipython3",
   "version": "3.9.13"
  },
  "orig_nbformat": 4
 },
 "nbformat": 4,
 "nbformat_minor": 2
}
