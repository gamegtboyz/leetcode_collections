{
 "cells": [
  {
   "cell_type": "markdown",
   "metadata": {},
   "source": [
    "### e01_py_two_sum\n",
    "Given the int[] named nums and int named target\n",
    "Write code to return indices of nums arrays which sum of their values equals to y.\n",
    "\n",
    "#### Example\n",
    "Input: nums = [2,7,11,15], target = 9\n",
    "Output: [0,1]\n",
    "Explanation: Because nums[0] + nums[1] == 9, we return [0, 1]."
   ]
  },
  {
   "cell_type": "code",
   "execution_count": 8,
   "metadata": {},
   "outputs": [],
   "source": [
    "# Sum of the solutions.\n",
    "## There're many ways available to solve this problem, the code shown here use the linear search\n",
    "\n",
    "# define the new functiond, which receive the list of integers named nums and integer called target, then return result as list of integer\n",
    "def Twosums(nums: List[int],target: int) -> List[int]:\n",
    "    # to work with python index, we need to define the index using length of array itself then iterate each items using for loop\n",
    "    n = len(nums)\n",
    "    # to optimize the search, we will define i and j to find the unique pair of values in the array\n",
    "    for i in range(n-1):\n",
    "        for j in range(i+1,n):\n",
    "            # if we could fine pair with sum equals to target, return the first pair found, else return empty array.\n",
    "            if(nums[i] + nums[j] == target):\n",
    "                return  [i,j]\n",
    "    return []"
   ]
  },
  {
   "cell_type": "code",
   "execution_count": 10,
   "metadata": {},
   "outputs": [
    {
     "name": "stdout",
     "output_type": "stream",
     "text": [
      "[0, 1]\n"
     ]
    }
   ],
   "source": [
    "# build up the instance of problems and let the defined function solve\n",
    "nums = [2,7,11,15]\n",
    "target = 9\n",
    "result = Twosums(nums,target)\n",
    "print(result)"
   ]
  }
 ],
 "metadata": {
  "kernelspec": {
   "display_name": "base",
   "language": "python",
   "name": "python3"
  },
  "language_info": {
   "codemirror_mode": {
    "name": "ipython",
    "version": 3
   },
   "file_extension": ".py",
   "mimetype": "text/x-python",
   "name": "python",
   "nbconvert_exporter": "python",
   "pygments_lexer": "ipython3",
   "version": "3.9.13"
  },
  "orig_nbformat": 4
 },
 "nbformat": 4,
 "nbformat_minor": 2
}
