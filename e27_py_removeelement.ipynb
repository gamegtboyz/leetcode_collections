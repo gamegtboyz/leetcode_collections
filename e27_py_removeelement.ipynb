{
 "cells": [
  {
   "cell_type": "code",
   "execution_count": 5,
   "metadata": {},
   "outputs": [],
   "source": [
    "case1 = [3,2,2,3]\n",
    "case2 = [0,1,2,2,3,0,4,2]"
   ]
  },
  {
   "cell_type": "code",
   "execution_count": 9,
   "metadata": {},
   "outputs": [],
   "source": [
    "def removeElement(nums,var):\n",
    "    for i in range(len(nums)):\n",
    "        if nums[i] == var:\n",
    "            nums = nums.remove(nums[i])\n",
    "    return len(nums)"
   ]
  },
  {
   "cell_type": "code",
   "execution_count": 12,
   "metadata": {},
   "outputs": [],
   "source": [
    "def solution(nums, val):\n",
    "    \"\"\"\n",
    "    This is the problems which we could solve with the two-pointer concepts as follows.\n",
    "    - define the slow pointers as 0\n",
    "    - loop with the fast pointers using the following conditions\n",
    "        - if that element is not equal to var, then parse it onto the slow pointers, then move the slow pointer\n",
    "        - if that element euqals to var, pass it.\n",
    "        - return the value of slow pointers.\n",
    "    \"\"\"\n",
    "    slow = 0\n",
    "    for i in range(len(nums)):\n",
    "        if nums[i] != val:\n",
    "           nums[slow] = nums[i]\n",
    "           slow += 1 \n",
    "    return slow"
   ]
  },
  {
   "cell_type": "code",
   "execution_count": 14,
   "metadata": {},
   "outputs": [
    {
     "data": {
      "text/plain": [
       "2"
      ]
     },
     "execution_count": 14,
     "metadata": {},
     "output_type": "execute_result"
    }
   ],
   "source": [
    "solution(case1,3)"
   ]
  }
 ],
 "metadata": {
  "kernelspec": {
   "display_name": "base",
   "language": "python",
   "name": "python3"
  },
  "language_info": {
   "codemirror_mode": {
    "name": "ipython",
    "version": 3
   },
   "file_extension": ".py",
   "mimetype": "text/x-python",
   "name": "python",
   "nbconvert_exporter": "python",
   "pygments_lexer": "ipython3",
   "version": "3.9.13"
  },
  "orig_nbformat": 4
 },
 "nbformat": 4,
 "nbformat_minor": 2
}
