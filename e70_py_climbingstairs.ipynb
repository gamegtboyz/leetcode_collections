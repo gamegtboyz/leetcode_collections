{
  "nbformat": 4,
  "nbformat_minor": 0,
  "metadata": {
    "colab": {
      "provenance": [],
      "authorship_tag": "ABX9TyNWbq5zIqrITKyd3FTGFpQo",
      "include_colab_link": true
    },
    "kernelspec": {
      "name": "python3",
      "display_name": "Python 3"
    },
    "language_info": {
      "name": "python"
    }
  },
  "cells": [
    {
      "cell_type": "markdown",
      "metadata": {
        "id": "view-in-github",
        "colab_type": "text"
      },
      "source": [
        "<a href=\"https://colab.research.google.com/github/gamegtboyz/leetcode_collections/blob/main/e70_py_climbingstairs.ipynb\" target=\"_parent\"><img src=\"https://colab.research.google.com/assets/colab-badge.svg\" alt=\"Open In Colab\"/></a>"
      ]
    },
    {
      "cell_type": "code",
      "execution_count": null,
      "metadata": {
        "id": "sNEJ8VpRTX5H"
      },
      "outputs": [],
      "source": [
        "def climbstairs(n:int) -> int:\n",
        "    # we will find the best solutions, then deviate the rest from it."
      ]
    },
    {
      "cell_type": "markdown",
      "source": [
        "We will deviate the unique orders of 2 using this relation.\n",
        "\n",
        "no of 2 | unique order of sum\n",
        "\n",
        "1 | 2 | 1+1 >> 1 + 1\n",
        "\n",
        "2 | 22 |\n",
        "\n",
        "112 \\ 121 \\ 211\n",
        "\n",
        "\\ 1111 >> 1 + 3 + 1\n",
        "\n",
        "3 | 222 |\n",
        "\n",
        "1122 \\ 1212 \\ 1221 \\ 2121 \\ 2211 >> 1 + 2*2\n",
        "\n",
        "\\ 11112 \\ 11121 \\ 11211 \\ 12111 \\ 21111 >> 1 + 1*4\n",
        "\n",
        "\\ 111111 >> 1 + 0*0\n",
        "\n",
        "4 | 2+2+2+2 |\n",
        "\n",
        "11222 \\ 12122 \\ 12212 \\ 12221 \\ 21221 \\ 22121 \\ 22211 >> 1 + 2*3\n",
        "\n",
        "111122 \\ 111212 \\ 111221 \\ 112121 \\ 112211 \\ 121211 \\ 122111 \\ 212111 \\ 221111 >> 1 + 4*2 (number of \"1\" iterate by number of \"2\" times)\n",
        "\n",
        "1111112 \\ 1111121 \\ 1111211 \\ 1112111 \\ 1121111 \\ 1211111 \\ 2111111 >> 1 + 6*1\n",
        "\n"
      ],
      "metadata": {
        "id": "zD6Ibm7AcoLe"
      }
    }
  ]
}