{
  "nbformat": 4,
  "nbformat_minor": 0,
  "metadata": {
    "colab": {
      "provenance": [],
      "authorship_tag": "ABX9TyOtJbtztIZySSnfo1irB4lV",
      "include_colab_link": true
    },
    "kernelspec": {
      "name": "python3",
      "display_name": "Python 3"
    },
    "language_info": {
      "name": "python"
    }
  },
  "cells": [
    {
      "cell_type": "markdown",
      "metadata": {
        "id": "view-in-github",
        "colab_type": "text"
      },
      "source": [
        "<a href=\"https://colab.research.google.com/github/gamegtboyz/leetcode_collections/blob/main/e70_py_climbingstairs.ipynb\" target=\"_parent\"><img src=\"https://colab.research.google.com/assets/colab-badge.svg\" alt=\"Open In Colab\"/></a>"
      ]
    },
    {
      "cell_type": "markdown",
      "source": [
        "We will deviate the unique orders of 2 using this relation.\n",
        "\n",
        "no of 2 | unique order of sum\n",
        "\n",
        "1 | 2 | 1+1 >> 1 + 1\n",
        "\n",
        "2 | 22 |\n",
        "\n",
        "112 \\ 121 \\ 211\n",
        "\n",
        "\\ 1111 >> 1 + 3 + 1\n",
        "\n",
        "3 | 222 |\n",
        "\n",
        "1122 \\ 1212 \\ 1221 \\ 2121 \\ 2211 >> 1 + 2*2\n",
        "\n",
        "\\ 11112 \\ 11121 \\ 11211 \\ 12111 \\ 21111 >> 1 + 4*1\n",
        "\n",
        "\\ 111111 >> 1 + 6*0\n",
        "\n",
        "4 | 2+2+2+2 |\n",
        "\n",
        "11222 \\ 12122 \\ 12212 \\ 12221 \\ 21221 \\ 22121 \\ 22211 >> 1 + 2*3\n",
        "\n",
        "111122 \\ 111212 \\ 111221 \\ 112121 \\ 112211 \\ 121211 \\ 122111 \\ 212111 \\ 221111 >> 1 + 4*2 (number of \"1\" iterate by number of \"2\" times)\n",
        "\n",
        "1111112 \\ 1111121 \\ 1111211 \\ 1112111 \\ 1121111 \\ 1211111 \\ 2111111 >> 1 + 6*1\n",
        "\n"
      ],
      "metadata": {
        "id": "zD6Ibm7AcoLe"
      }
    },
    {
      "cell_type": "code",
      "source": [
        "def bestClimb(n:int) -> int:\n",
        "    # calculate the best solution, which is consisted of lowest number of 1 as possible\n",
        "    one = n%2\n",
        "    two = int(n/2)\n",
        "    return one, two, one+two"
      ],
      "metadata": {
        "id": "xEjrUwLe0LxJ"
      },
      "execution_count": null,
      "outputs": []
    },
    {
      "cell_type": "markdown",
      "source": [
        "###The code is shown below."
      ],
      "metadata": {
        "id": "hqOOCrPo0ZkM"
      }
    },
    {
      "cell_type": "code",
      "execution_count": null,
      "metadata": {
        "id": "sNEJ8VpRTX5H"
      },
      "outputs": [],
      "source": [
        "def climbStairs(n:int) -> int:\n",
        "    # we will find the best solutions, then deviate the rest from it.\n",
        "    # calculate the best solution, which is consisted of lowest number of 1 as possible\n",
        "    one = n%2\n",
        "    two = int(n/2)\n",
        "    # calculate the possible ways for each possible total digits, we will keep calculate when we not reach the worst route possible (when two == 0)\n",
        "    ways = 0\n",
        "    while (two >= 0):\n",
        "        if (n == 0): break\n",
        "        ways += 1 + (one*two)\n",
        "        two -= 1\n",
        "        one += 2\n",
        "    return ways\n"
      ]
    },
    {
      "cell_type": "code",
      "source": [
        "print(climbStairs(6))"
      ],
      "metadata": {
        "id": "8SVaHYrm3mXZ",
        "outputId": "526cc261-159b-480c-9535-57f42e6a0895",
        "colab": {
          "base_uri": "https://localhost:8080/"
        }
      },
      "execution_count": null,
      "outputs": [
        {
          "output_type": "stream",
          "name": "stdout",
          "text": [
            "12\n"
          ]
        }
      ]
    },
    {
      "cell_type": "code",
      "source": [
        "print(climbStairs(2))"
      ],
      "metadata": {
        "id": "EXJwS1AT3qap",
        "outputId": "39d98c58-be26-4fea-f5c2-a5b3c8831745",
        "colab": {
          "base_uri": "https://localhost:8080/"
        }
      },
      "execution_count": null,
      "outputs": [
        {
          "output_type": "stream",
          "name": "stdout",
          "text": [
            "2\n"
          ]
        }
      ]
    },
    {
      "cell_type": "code",
      "source": [
        "print(climbStairs(3))"
      ],
      "metadata": {
        "id": "J3_jfZh44Hqe",
        "outputId": "4893ca0c-8ad7-4ead-cf48-331b5dc003bd",
        "colab": {
          "base_uri": "https://localhost:8080/"
        }
      },
      "execution_count": null,
      "outputs": [
        {
          "output_type": "stream",
          "name": "stdout",
          "text": [
            "3\n"
          ]
        }
      ]
    },
    {
      "cell_type": "code",
      "source": [
        "print(climbStairs(0))"
      ],
      "metadata": {
        "id": "UsR8Ih3e4KHm",
        "outputId": "9693b28f-dc3d-489b-c7d5-82afe67ff7b8",
        "colab": {
          "base_uri": "https://localhost:8080/"
        }
      },
      "execution_count": null,
      "outputs": [
        {
          "output_type": "stream",
          "name": "stdout",
          "text": [
            "0\n"
          ]
        }
      ]
    }
  ]
}