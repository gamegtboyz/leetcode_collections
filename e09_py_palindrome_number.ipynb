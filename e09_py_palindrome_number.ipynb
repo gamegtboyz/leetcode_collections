{
 "cells": [
  {
   "cell_type": "code",
   "execution_count": 6,
   "metadata": {},
   "outputs": [
    {
     "data": {
      "text/plain": [
       "str"
      ]
     },
     "execution_count": 6,
     "metadata": {},
     "output_type": "execute_result"
    }
   ],
   "source": [
    "numbers = -20263\n",
    "string = str(numbers)\n",
    "type(string)"
   ]
  },
  {
   "cell_type": "code",
   "execution_count": 7,
   "metadata": {},
   "outputs": [
    {
     "name": "stdout",
     "output_type": "stream",
     "text": [
      "6\n"
     ]
    }
   ],
   "source": [
    "length = len(string)\n",
    "print(length)"
   ]
  },
  {
   "cell_type": "code",
   "execution_count": 10,
   "metadata": {},
   "outputs": [
    {
     "name": "stdout",
     "output_type": "stream",
     "text": [
      "-\n",
      "2\n",
      "0\n",
      "2\n",
      "6\n",
      "3\n"
     ]
    }
   ],
   "source": [
    "for j in range(length):\n",
    "    print(string[j])"
   ]
  },
  {
   "cell_type": "code",
   "execution_count": 26,
   "metadata": {},
   "outputs": [
    {
     "name": "stdout",
     "output_type": "stream",
     "text": [
      "iterate j = 0\n",
      "-\n",
      "iterate j = 1\n",
      "2\n",
      "iterate j = 2\n",
      "0\n",
      "iterate j = 3\n",
      "2\n",
      "iterate j = 4\n",
      "6\n",
      "iterate j = 5\n",
      "3\n"
     ]
    }
   ],
   "source": [
    "a = []\n",
    "for j in range(length):\n",
    "    print(\"iterate j = \" + str(j))\n",
    "    print(string[j])"
   ]
  }
 ],
 "metadata": {
  "kernelspec": {
   "display_name": "base",
   "language": "python",
   "name": "python3"
  },
  "language_info": {
   "codemirror_mode": {
    "name": "ipython",
    "version": 3
   },
   "file_extension": ".py",
   "mimetype": "text/x-python",
   "name": "python",
   "nbconvert_exporter": "python",
   "pygments_lexer": "ipython3",
   "version": "3.9.13"
  },
  "orig_nbformat": 4
 },
 "nbformat": 4,
 "nbformat_minor": 2
}
