{
 "cells": [
  {
   "cell_type": "code",
   "execution_count": 1,
   "metadata": {},
   "outputs": [
    {
     "data": {
      "text/plain": [
       "'\\nGiven the target, the prolems require us to find out the index the target would be in sorted array.\\nThe code should be run in O(log n) runtime complexity, which means we have to do the binary seach upon the arrays.\\n'"
      ]
     },
     "execution_count": 1,
     "metadata": {},
     "output_type": "execute_result"
    }
   ],
   "source": [
    "\"\"\"\n",
    "Given the target, the prolems require us to find out the index the target would be in sorted array.\n",
    "The code should be run in O(log n) runtime complexity, which means we have to do the binary seach upon the arrays.\n",
    "\"\"\""
   ]
  },
  {
   "cell_type": "code",
   "execution_count": 9,
   "metadata": {},
   "outputs": [],
   "source": [
    "# define the testcase\n",
    "nums1 = [1,3,5,6,7]"
   ]
  },
  {
   "cell_type": "code",
   "execution_count": 11,
   "metadata": {},
   "outputs": [],
   "source": [
    "low_nums1 = []\n",
    "high_nums1 = []\n",
    "mid_index = int(len(nums1)/2)\n",
    "for i in range(mid_index):\n",
    "    low_nums1.append(nums1[i])\n",
    "for j in range(mid_index,len(nums1)):\n",
    "    high_nums1.append(nums1[j])"
   ]
  },
  {
   "cell_type": "code",
   "execution_count": 12,
   "metadata": {},
   "outputs": [
    {
     "name": "stdout",
     "output_type": "stream",
     "text": [
      "[1, 3]\n",
      "[5, 6, 7]\n"
     ]
    }
   ],
   "source": [
    "print(low_nums1)\n",
    "print(high_nums1)"
   ]
  },
  {
   "cell_type": "code",
   "execution_count": null,
   "metadata": {},
   "outputs": [],
   "source": [
    "# build the function\n",
    "def searchInsert(nums, target) -> int:\n",
    "    # observe the length of array, then find index of midpoints\n",
    "    # compare the"
   ]
  }
 ],
 "metadata": {
  "kernelspec": {
   "display_name": "base",
   "language": "python",
   "name": "python3"
  },
  "language_info": {
   "codemirror_mode": {
    "name": "ipython",
    "version": 3
   },
   "file_extension": ".py",
   "mimetype": "text/x-python",
   "name": "python",
   "nbconvert_exporter": "python",
   "pygments_lexer": "ipython3",
   "version": "3.9.13"
  },
  "orig_nbformat": 4
 },
 "nbformat": 4,
 "nbformat_minor": 2
}
