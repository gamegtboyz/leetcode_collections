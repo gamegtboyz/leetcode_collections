{
 "cells": [
  {
   "cell_type": "code",
   "execution_count": 2,
   "metadata": {},
   "outputs": [
    {
     "data": {
      "text/plain": [
       "'\\nGiven the target, the prolems require us to find out the index the target would be in sorted array.\\nThe code should be run in O(log n) runtime complexity, which means we have to do the binary seach upon the arrays.\\n'"
      ]
     },
     "execution_count": 2,
     "metadata": {},
     "output_type": "execute_result"
    }
   ],
   "source": [
    "\"\"\"\n",
    "Given the target, the prolems require us to find out the index the target would be in sorted array.\n",
    "The code should be run in O(log n) runtime complexity, which means we have to do the binary seach upon the arrays.\n",
    "\"\"\""
   ]
  },
  {
   "cell_type": "code",
   "execution_count": 3,
   "metadata": {},
   "outputs": [],
   "source": [
    "# define the testcase\n",
    "nums1 = [1,3,5,6,7]"
   ]
  },
  {
   "cell_type": "code",
   "execution_count": 4,
   "metadata": {},
   "outputs": [],
   "source": [
    "low_nums1 = []\n",
    "high_nums1 = []\n",
    "mid_index = int(len(nums1)/2)\n",
    "for i in range(mid_index):\n",
    "    low_nums1.append(nums1[i])\n",
    "for j in range(mid_index,len(nums1)):\n",
    "    high_nums1.append(nums1[j])"
   ]
  },
  {
   "cell_type": "code",
   "execution_count": 5,
   "metadata": {},
   "outputs": [
    {
     "name": "stdout",
     "output_type": "stream",
     "text": [
      "[1, 3]\n",
      "[5, 6, 7]\n"
     ]
    }
   ],
   "source": [
    "print(low_nums1)\n",
    "print(high_nums1)"
   ]
  },
  {
   "cell_type": "code",
   "execution_count": 6,
   "metadata": {},
   "outputs": [],
   "source": [
    "# build the function\n",
    "def searchInsert(nums, target) -> int:\n",
    "    result = 0\n",
    "    while(True):\n",
    "        # build the higher and lower arrays\n",
    "        low_nums = []\n",
    "        high_nums = []\n",
    "        midpoints = int(len(nums)/2)\n",
    "        print(high_nums)\n",
    "        print(low_nums)\n",
    "        print(midpoints)\n",
    "        for i in range(midpoints):\n",
    "            low_nums.append(nums[i])\n",
    "        for j in range(midpoints,len(nums)):\n",
    "            high_nums.append(nums[j])\n",
    "        # check if which half the target should be in        \n",
    "        # if the target is in higher half, go to high\n",
    "        if (target >= high_nums[0]):\n",
    "            result += midpoints\n",
    "            nums = high_nums\n",
    "            continue\n",
    "        # if the target is in lower half, go to low\n",
    "        if (target <= low_nums[-1]):\n",
    "            result -= len(nums) - len(high_nums)\n",
    "            nums = low_nums\n",
    "            continue\n",
    "        # if the target is between highest low or lowest high, answer it.\n",
    "        if (target >= low_nums[-1]) & (target <= high_nums[0]):\n",
    "            result += midpoints\n",
    "            break\n",
    "    return result"
   ]
  },
  {
   "cell_type": "code",
   "execution_count": 10,
   "metadata": {},
   "outputs": [],
   "source": [
    "# here is the solution, which the explanation is needed later\n",
    "def Solutions(nums, target):\n",
    "    # define the two pointers on each end of the array\n",
    "    low = 0\n",
    "    high = len(nums) - 1\n",
    "    # build up the loop which defines the midpoint which it should be equal to targets. If not, contunue the loop until the low and high pointer meets each other.\n",
    "    while low <= high:\n",
    "        mid = int((low + high) / 2)  # define the midpoints of the remaining array\n",
    "        if nums[mid] < target:  # if the midpoints is lower than the target, we will slice the higher half away then loop over the higher half\n",
    "            low = mid + 1\n",
    "        elif nums[mid] > target: # if the midpoints is lower than the target, we will slice the higher half away then loop over the lower half\n",
    "            high = mid - 1\n",
    "        else:                   # if found the target right on the mid, return the mid\n",
    "            return mid        \n",
    "    return low                  # or else, when the two pointer no longer align to while loop, return the index of low as answer."
   ]
  },
  {
   "cell_type": "code",
   "execution_count": 11,
   "metadata": {},
   "outputs": [
    {
     "name": "stdout",
     "output_type": "stream",
     "text": [
      "4\n"
     ]
    }
   ],
   "source": [
    "print(Solutions(nums1,target=7))"
   ]
  },
  {
   "cell_type": "code",
   "execution_count": null,
   "metadata": {},
   "outputs": [],
   "source": []
  }
 ],
 "metadata": {
  "kernelspec": {
   "display_name": "base",
   "language": "python",
   "name": "python3"
  },
  "language_info": {
   "codemirror_mode": {
    "name": "ipython",
    "version": 3
   },
   "file_extension": ".py",
   "mimetype": "text/x-python",
   "name": "python",
   "nbconvert_exporter": "python",
   "pygments_lexer": "ipython3",
   "version": "3.9.13"
  },
  "orig_nbformat": 4
 },
 "nbformat": 4,
 "nbformat_minor": 2
}
