{
 "cells": [
  {
   "cell_type": "code",
   "execution_count": 107,
   "metadata": {},
   "outputs": [],
   "source": [
    "hay1 = \"sadbutsad\"\n",
    "ndl1 = \"sad\"\n",
    "\n",
    "hay2 = \"leetcode\"\n",
    "ndl2 = \"leeto\"\n",
    "\n",
    "hay3 = \"onedayisallyouneed\"\n",
    "ndl3 = \"is\"\n",
    "\n",
    "hay4 = \"a\"\n",
    "ndl4 = \"a\"\n",
    "\n",
    "hay5 = \"abc\"\n",
    "ndl5 = \"c\""
   ]
  },
  {
   "cell_type": "code",
   "execution_count": 118,
   "metadata": {},
   "outputs": [],
   "source": [
    "def strStr(haystack: str, needle: str) -> int:\n",
    "    index = -1\n",
    "    for i in range(max(1,(len(haystack) - len(needle)))):\n",
    "        if haystack[i] == needle[0]:    # if match haystack with first needle, go for inner loop\n",
    "            index = i\n",
    "            for j in range(1,len(needle)):\n",
    "                if needle[j] != haystack[i+j]:  # if could not match with whole needle array, break the loop\n",
    "                    index = -1 # reset the index value, then break the inner loop to move on another haystack[i]\n",
    "                    break\n",
    "\n",
    "    return index"
   ]
  },
  {
   "cell_type": "code",
   "execution_count": 119,
   "metadata": {},
   "outputs": [
    {
     "name": "stdout",
     "output_type": "stream",
     "text": [
      "0\n"
     ]
    }
   ],
   "source": [
    "print(strStr(hay1,ndl1)) # expect 0 since it's found at first"
   ]
  },
  {
   "cell_type": "code",
   "execution_count": 120,
   "metadata": {},
   "outputs": [
    {
     "name": "stdout",
     "output_type": "stream",
     "text": [
      "-1\n"
     ]
    }
   ],
   "source": [
    "print(strStr(hay2,ndl2)) # expected -1 because not found"
   ]
  },
  {
   "cell_type": "code",
   "execution_count": 121,
   "metadata": {},
   "outputs": [
    {
     "name": "stdout",
     "output_type": "stream",
     "text": [
      "6\n"
     ]
    }
   ],
   "source": [
    "print(strStr(hay3,ndl3)) # expected 6"
   ]
  },
  {
   "cell_type": "code",
   "execution_count": 122,
   "metadata": {},
   "outputs": [
    {
     "name": "stdout",
     "output_type": "stream",
     "text": [
      "0\n"
     ]
    }
   ],
   "source": [
    "print(strStr(hay4,ndl4)) #expected 0"
   ]
  },
  {
   "cell_type": "code",
   "execution_count": 123,
   "metadata": {},
   "outputs": [
    {
     "name": "stdout",
     "output_type": "stream",
     "text": [
      "-1\n"
     ]
    }
   ],
   "source": [
    "print(strStr(hay5,ndl5)) # expected 2"
   ]
  },
  {
   "cell_type": "code",
   "execution_count": 111,
   "metadata": {},
   "outputs": [
    {
     "data": {
      "text/plain": [
       "range(0, 1)"
      ]
     },
     "execution_count": 111,
     "metadata": {},
     "output_type": "execute_result"
    }
   ],
   "source": [
    "range((len(hay4) - len(ndl4))+1)"
   ]
  },
  {
   "cell_type": "code",
   "execution_count": null,
   "metadata": {},
   "outputs": [],
   "source": []
  }
 ],
 "metadata": {
  "kernelspec": {
   "display_name": "base",
   "language": "python",
   "name": "python3"
  },
  "language_info": {
   "codemirror_mode": {
    "name": "ipython",
    "version": 3
   },
   "file_extension": ".py",
   "mimetype": "text/x-python",
   "name": "python",
   "nbconvert_exporter": "python",
   "pygments_lexer": "ipython3",
   "version": "3.9.13"
  },
  "orig_nbformat": 4
 },
 "nbformat": 4,
 "nbformat_minor": 2
}
