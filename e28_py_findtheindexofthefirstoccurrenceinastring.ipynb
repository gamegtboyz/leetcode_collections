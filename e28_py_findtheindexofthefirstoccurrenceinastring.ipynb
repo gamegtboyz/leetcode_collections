{
 "cells": [
  {
   "cell_type": "code",
   "execution_count": 4,
   "metadata": {},
   "outputs": [],
   "source": [
    "hay1 = \"sadbutsad\"\n",
    "ndl1 = \"sad\"\n",
    "\n",
    "hay2 = \"leetcode\"\n",
    "ndl2 = \"leeto\"\n",
    "\n",
    "hay3 = \"onedayisallyouneed\"\n",
    "ndl3 = \"is\"\n",
    "\n",
    "hay4 = \"a\"\n",
    "ndl4 = \"a\"\n",
    "\n",
    "hay5 = \"abc\"\n",
    "ndl5 = \"c\""
   ]
  },
  {
   "cell_type": "code",
   "execution_count": 5,
   "metadata": {},
   "outputs": [],
   "source": [
    "def strStr(haystack: str, needle: str) -> int:\n",
    "    index = -1\n",
    "    for i in range(len(haystack) - (len(needle)-1)):\n",
    "        if haystack[i] == needle[0]:    # if match haystack with first needle, go for inner loop\n",
    "            index = i\n",
    "            for j in range(1,len(needle)):\n",
    "                if needle[j] != haystack[i+j]:  # if could not match with whole needle array, break the loop\n",
    "                    index = -1 # reset the index value, then break the inner loop to move on another haystack[i]\n",
    "                    break\n",
    "                if j == (len(needle)-1):    # if we could finish the inner loop without interruptions, return the answer.\n",
    "                    return index\n",
    "    return index"
   ]
  },
  {
   "cell_type": "code",
   "execution_count": 6,
   "metadata": {},
   "outputs": [
    {
     "name": "stdout",
     "output_type": "stream",
     "text": [
      "0\n"
     ]
    }
   ],
   "source": [
    "print(strStr(hay1,ndl1)) # expect 0 since it's found at first"
   ]
  },
  {
   "cell_type": "code",
   "execution_count": 7,
   "metadata": {},
   "outputs": [
    {
     "name": "stdout",
     "output_type": "stream",
     "text": [
      "-1\n"
     ]
    }
   ],
   "source": [
    "print(strStr(hay2,ndl2)) # expected -1 because not found"
   ]
  },
  {
   "cell_type": "code",
   "execution_count": 8,
   "metadata": {},
   "outputs": [
    {
     "name": "stdout",
     "output_type": "stream",
     "text": [
      "6\n"
     ]
    }
   ],
   "source": [
    "print(strStr(hay3,ndl3)) # expected 6"
   ]
  },
  {
   "cell_type": "code",
   "execution_count": 9,
   "metadata": {},
   "outputs": [
    {
     "name": "stdout",
     "output_type": "stream",
     "text": [
      "0\n"
     ]
    }
   ],
   "source": [
    "print(strStr(hay4,ndl4)) #expected 0"
   ]
  },
  {
   "cell_type": "code",
   "execution_count": 10,
   "metadata": {},
   "outputs": [
    {
     "name": "stdout",
     "output_type": "stream",
     "text": [
      "2\n"
     ]
    }
   ],
   "source": [
    "print(strStr(hay5,ndl5)) # expected 2"
   ]
  }
 ],
 "metadata": {
  "kernelspec": {
   "display_name": "base",
   "language": "python",
   "name": "python3"
  },
  "language_info": {
   "codemirror_mode": {
    "name": "ipython",
    "version": 3
   },
   "file_extension": ".py",
   "mimetype": "text/x-python",
   "name": "python",
   "nbconvert_exporter": "python",
   "pygments_lexer": "ipython3",
   "version": "3.9.13"
  },
  "orig_nbformat": 4
 },
 "nbformat": 4,
 "nbformat_minor": 2
}
