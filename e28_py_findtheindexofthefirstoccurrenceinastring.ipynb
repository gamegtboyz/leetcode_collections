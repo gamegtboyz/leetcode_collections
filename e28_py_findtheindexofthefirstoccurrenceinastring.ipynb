{
 "cells": [
  {
   "cell_type": "code",
   "execution_count": 8,
   "metadata": {},
   "outputs": [],
   "source": [
    "hay1 = \"sadbutsad\"\n",
    "ndl1 = \"sad\"\n",
    "\n",
    "hay2 = \"leetcode\"\n",
    "ndl2 = \"leeto\"\n",
    "\n",
    "hay3 = \"onedayisallyouneed\"\n",
    "ndl3 = \"is\""
   ]
  },
  {
   "cell_type": "code",
   "execution_count": 61,
   "metadata": {},
   "outputs": [],
   "source": [
    "\"\"\"\n",
    "How the codes work could be explained as follows.\n",
    "We will use two pointers to solve this problem. The slow one for haystack, another for needle\n",
    "For each haystack elements:\n",
    "    if haystack[i] == needle[0]:\n",
    "        temp_answer = i \n",
    "        go to next needle elements.\n",
    "\n",
    "\"\"\"\n",
    "def strStr(haystack: str, needle: str) -> int:\n",
    "    index = -1\n",
    "    for i in range((len(haystack) - len(needle))):\n",
    "        if haystack[i] == needle[0]:    # if match haystack with first needle, go for inner loop\n",
    "            index = i\n",
    "            for j in range(1,len(needle)):\n",
    "                if needle[j] != haystack[i+j]:  # if could not match with whole needle array, break the loop\n",
    "                    index = -1\n",
    "                    break\n",
    "    return index"
   ]
  },
  {
   "cell_type": "code",
   "execution_count": 62,
   "metadata": {},
   "outputs": [
    {
     "name": "stdout",
     "output_type": "stream",
     "text": [
      "0\n"
     ]
    }
   ],
   "source": [
    "print(strStr(hay1,ndl1)) # expect 0 since it's found at first"
   ]
  },
  {
   "cell_type": "code",
   "execution_count": 63,
   "metadata": {},
   "outputs": [
    {
     "name": "stdout",
     "output_type": "stream",
     "text": [
      "-1\n"
     ]
    }
   ],
   "source": [
    "print(strStr(hay2,ndl2)) # expected -1 because not found"
   ]
  },
  {
   "cell_type": "code",
   "execution_count": 64,
   "metadata": {},
   "outputs": [
    {
     "name": "stdout",
     "output_type": "stream",
     "text": [
      "6\n"
     ]
    }
   ],
   "source": [
    "print(strStr(hay3,ndl3)) # expected 6"
   ]
  },
  {
   "cell_type": "markdown",
   "metadata": {},
   "source": [
    "The update version is to adjust "
   ]
  }
 ],
 "metadata": {
  "kernelspec": {
   "display_name": "base",
   "language": "python",
   "name": "python3"
  },
  "language_info": {
   "codemirror_mode": {
    "name": "ipython",
    "version": 3
   },
   "file_extension": ".py",
   "mimetype": "text/x-python",
   "name": "python",
   "nbconvert_exporter": "python",
   "pygments_lexer": "ipython3",
   "version": "3.9.13"
  },
  "orig_nbformat": 4
 },
 "nbformat": 4,
 "nbformat_minor": 2
}
