{
 "cells": [
  {
   "cell_type": "code",
   "execution_count": 32,
   "metadata": {},
   "outputs": [],
   "source": [
    "# build up the problem string\n",
    "s = \"(])\""
   ]
  },
  {
   "cell_type": "code",
   "execution_count": 33,
   "metadata": {},
   "outputs": [],
   "source": [
    "offsetpren = []\n",
    "open = [\"(\",\"{\",\"[\"]\n",
    "close = [\")\",\"}\",\"]\"]\n",
    "for i in range(len(s)):\n",
    "    if(s[i] in open):\n",
    "        offsetpren.append(s[i])\n",
    "    else:\n",
    "        # if the first character is close parentheses, break the loop\n",
    "        if(s[i] in close and offsetpren == []):\n",
    "            offsetpren.append(\" \")\n",
    "            break\n",
    "        # if it's in close, check the index of close, then compare with the last index of offsetpren. if it equals, pop it.\n",
    "        if(close.index(s[i]) == open.index(offsetpren[-1])):\n",
    "            offsetpren.pop()\n",
    "        else:            \n",
    "            break"
   ]
  },
  {
   "cell_type": "code",
   "execution_count": 34,
   "metadata": {},
   "outputs": [
    {
     "name": "stdout",
     "output_type": "stream",
     "text": [
      "This parentheses order is invalid\n"
     ]
    }
   ],
   "source": [
    "# check if offsetpren is still the null list\n",
    "if(offsetpren == []):\n",
    "    print(\"This parentheses order is valid\")\n",
    "else:\n",
    "    print(\"This parentheses order is invalid\")"
   ]
  }
 ],
 "metadata": {
  "kernelspec": {
   "display_name": "base",
   "language": "python",
   "name": "python3"
  },
  "language_info": {
   "codemirror_mode": {
    "name": "ipython",
    "version": 3
   },
   "file_extension": ".py",
   "mimetype": "text/x-python",
   "name": "python",
   "nbconvert_exporter": "python",
   "pygments_lexer": "ipython3",
   "version": "3.9.13"
  },
  "orig_nbformat": 4
 },
 "nbformat": 4,
 "nbformat_minor": 2
}
