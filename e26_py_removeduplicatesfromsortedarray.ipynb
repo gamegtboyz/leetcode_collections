{
 "cells": [
  {
   "cell_type": "code",
   "execution_count": 1,
   "metadata": {},
   "outputs": [],
   "source": [
    "# build up the test case\n",
    "case1 = [1,1,2]\n",
    "case2 = [0,0,1,1,1,2,2,3,3,4]\n",
    "case3 = []"
   ]
  },
  {
   "cell_type": "code",
   "execution_count": 2,
   "metadata": {},
   "outputs": [],
   "source": [
    "def removeDuplicates(nums):\n",
    "    results = []\n",
    "    k = 0\n",
    "    # if nums is None, return the k, else, append the first index of nums\n",
    "    if nums == None:\n",
    "        return k\n",
    "    else:\n",
    "        results.append(nums[0])\n",
    "        k += 1\n",
    "    \n",
    "    # iterates upon the following elements, if it's not equal to revious element, then parse the number onto the results\n",
    "    for i in range(1,len(nums)):\n",
    "        if (nums[i] != nums[i-1]):\n",
    "            results.append(nums[i])\n",
    "            k += 1\n",
    "    \n",
    "    return k, results"
   ]
  },
  {
   "cell_type": "code",
   "execution_count": 7,
   "metadata": {},
   "outputs": [
    {
     "name": "stdout",
     "output_type": "stream",
     "text": [
      "(5, [0, 1, 2, 3, 4])\n"
     ]
    }
   ],
   "source": [
    "print(removeDuplicates(case2))"
   ]
  },
  {
   "cell_type": "code",
   "execution_count": 10,
   "metadata": {},
   "outputs": [],
   "source": [
    "def solution(nums):\n",
    "    j = 0\n",
    "    for i in range(1,len(nums)):\n",
    "        if nums[i] != nums[i-1]:\n",
    "            j += 1\n",
    "            nums[j] = nums[i]\n",
    "    return j+1"
   ]
  },
  {
   "cell_type": "code",
   "execution_count": 12,
   "metadata": {},
   "outputs": [
    {
     "name": "stdout",
     "output_type": "stream",
     "text": [
      "5\n"
     ]
    }
   ],
   "source": [
    "print(solution(case2))"
   ]
  }
 ],
 "metadata": {
  "kernelspec": {
   "display_name": "base",
   "language": "python",
   "name": "python3"
  },
  "language_info": {
   "codemirror_mode": {
    "name": "ipython",
    "version": 3
   },
   "file_extension": ".py",
   "mimetype": "text/x-python",
   "name": "python",
   "nbconvert_exporter": "python",
   "pygments_lexer": "ipython3",
   "version": "3.9.13"
  },
  "orig_nbformat": 4
 },
 "nbformat": 4,
 "nbformat_minor": 2
}
