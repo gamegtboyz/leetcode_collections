{
  "nbformat": 4,
  "nbformat_minor": 0,
  "metadata": {
    "colab": {
      "provenance": [],
      "authorship_tag": "ABX9TyP1gep9MorI4c7kgcInRpQp",
      "include_colab_link": true
    },
    "kernelspec": {
      "name": "python3",
      "display_name": "Python 3"
    },
    "language_info": {
      "name": "python"
    }
  },
  "cells": [
    {
      "cell_type": "markdown",
      "metadata": {
        "id": "view-in-github",
        "colab_type": "text"
      },
      "source": [
        "<a href=\"https://colab.research.google.com/github/gamegtboyz/leetcode_collections/blob/main/e69_py_sqrtx.ipynb\" target=\"_parent\"><img src=\"https://colab.research.google.com/assets/colab-badge.svg\" alt=\"Open In Colab\"/></a>"
      ]
    },
    {
      "cell_type": "code",
      "execution_count": null,
      "metadata": {
        "id": "d0Z_p-2i8H_0"
      },
      "outputs": [],
      "source": [
        "# we will use linear search for this solution\n",
        "# try sqared each integer while squared and not excess the input, cont. When excess the input, return ans - 1\n",
        "def mySqrt (x:int) -> int:\n",
        "    y = 0\n",
        "    while (y**2 <= x):\n",
        "        y += 1\n",
        "    return y - 1"
      ]
    },
    {
      "cell_type": "code",
      "source": [],
      "metadata": {
        "id": "RGlWTxP5McDk"
      },
      "execution_count": null,
      "outputs": []
    }
  ]
}