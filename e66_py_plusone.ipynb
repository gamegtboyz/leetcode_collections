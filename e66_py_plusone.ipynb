{
 "cells": [
  {
   "cell_type": "code",
   "execution_count": 5,
   "metadata": {},
   "outputs": [],
   "source": [
    "case1 = [2,0,2,6,3]"
   ]
  },
  {
   "cell_type": "code",
   "execution_count": 6,
   "metadata": {},
   "outputs": [],
   "source": [
    "# cast string from list by convert list of integer into list of character, then append each of then into the string\n",
    "## convert each digits from int to char(string)\n",
    "for i in range(len(case1)):\n",
    "    case1[i] = str(case1[i])\n",
    "\n",
    "## append each character into a string\n",
    "case_string = \"\"\n",
    "for j in range(len(case1)):\n",
    "     case_string += case1[j]"
   ]
  },
  {
   "cell_type": "code",
   "execution_count": 7,
   "metadata": {},
   "outputs": [
    {
     "data": {
      "text/plain": [
       "'20263'"
      ]
     },
     "execution_count": 7,
     "metadata": {},
     "output_type": "execute_result"
    }
   ],
   "source": [
    "case_string"
   ]
  },
  {
   "cell_type": "code",
   "execution_count": 8,
   "metadata": {},
   "outputs": [],
   "source": [
    "## convert string back to int\n",
    "case_string = int(case_string)"
   ]
  },
  {
   "cell_type": "code",
   "execution_count": 9,
   "metadata": {},
   "outputs": [
    {
     "data": {
      "text/plain": [
       "20263"
      ]
     },
     "execution_count": 9,
     "metadata": {},
     "output_type": "execute_result"
    }
   ],
   "source": [
    "case_string"
   ]
  },
  {
   "cell_type": "code",
   "execution_count": 16,
   "metadata": {},
   "outputs": [],
   "source": [
    "def plusOne(digits):\n",
    "    # convert list of int into list of character\n",
    "    for i in range(len(digits)):\n",
    "        digits[i] = str(digits[i])\n",
    "    # convert list of character into string\n",
    "    string_digits = \"\"\n",
    "    for j in range(len(digits)):\n",
    "        string_digits += digits[j]\n",
    "    # convert string back to int\n",
    "    digits = int(string_digits)\n",
    "    # plus one\n",
    "    digits = digits + 1\n",
    "\n",
    "    # convert int into string\n",
    "    digits = str(digits)\n",
    "    # convert string into list of string\n",
    "    list_digits = []\n",
    "    for i in range(len(digits)):\n",
    "        list_digits.append(digits[i])\n",
    "    # convert list of string into list of int\n",
    "    for j in range(len(list_digits)):\n",
    "        list_digits[j] = int(list_digits[j])\n",
    "\n",
    "    return list_digits"
   ]
  },
  {
   "cell_type": "code",
   "execution_count": 17,
   "metadata": {},
   "outputs": [
    {
     "name": "stdout",
     "output_type": "stream",
     "text": [
      "[1, 2, 4]\n"
     ]
    }
   ],
   "source": [
    "digits1 = [1,2,3]\n",
    "print(plusOne(digits1))"
   ]
  }
 ],
 "metadata": {
  "kernelspec": {
   "display_name": "base",
   "language": "python",
   "name": "python3"
  },
  "language_info": {
   "codemirror_mode": {
    "name": "ipython",
    "version": 3
   },
   "file_extension": ".py",
   "mimetype": "text/x-python",
   "name": "python",
   "nbconvert_exporter": "python",
   "pygments_lexer": "ipython3",
   "version": "3.9.13"
  },
  "orig_nbformat": 4
 },
 "nbformat": 4,
 "nbformat_minor": 2
}
